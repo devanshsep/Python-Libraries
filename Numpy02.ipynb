{
  "nbformat": 4,
  "nbformat_minor": 0,
  "metadata": {
    "colab": {
      "provenance": []
    },
    "kernelspec": {
      "name": "python3",
      "display_name": "Python 3"
    },
    "language_info": {
      "name": "python"
    }
  },
  "cells": [
    {
      "cell_type": "code",
      "execution_count": null,
      "metadata": {
        "id": "qsNQkae9t2mG"
      },
      "outputs": [],
      "source": [
        "#Universal Functions\n",
        "#Vectorised Functions\n",
        "# Agrregate fuction\n",
        "#Logical Functions"
      ]
    },
    {
      "cell_type": "code",
      "source": [
        "import numpy as np"
      ],
      "metadata": {
        "id": "_4WF1wZiuLxU"
      },
      "execution_count": 2,
      "outputs": []
    },
    {
      "cell_type": "code",
      "source": [
        "a = np.array([1,2,3])\n",
        "b = np.array([1,2,3])\n",
        "a+b"
      ],
      "metadata": {
        "colab": {
          "base_uri": "https://localhost:8080/"
        },
        "id": "Lf7PURgWuQWm",
        "outputId": "1aac1073-4c46-4975-8791-b9b4ee0348ec"
      },
      "execution_count": 5,
      "outputs": [
        {
          "output_type": "execute_result",
          "data": {
            "text/plain": [
              "array([2, 4, 6])"
            ]
          },
          "metadata": {},
          "execution_count": 5
        }
      ]
    },
    {
      "cell_type": "code",
      "source": [
        "a = np.arange(12).reshape(3,4)\n",
        "a"
      ],
      "metadata": {
        "colab": {
          "base_uri": "https://localhost:8080/"
        },
        "id": "7J-M54SzvmR8",
        "outputId": "564118f0-33a6-404f-d776-413e0132ac3e"
      },
      "execution_count": 6,
      "outputs": [
        {
          "output_type": "execute_result",
          "data": {
            "text/plain": [
              "array([[ 0,  1,  2,  3],\n",
              "       [ 4,  5,  6,  7],\n",
              "       [ 8,  9, 10, 11]])"
            ]
          },
          "metadata": {},
          "execution_count": 6
        }
      ]
    },
    {
      "cell_type": "code",
      "source": [
        "np.sum(a)"
      ],
      "metadata": {
        "colab": {
          "base_uri": "https://localhost:8080/"
        },
        "id": "q_zZg4CBwPUv",
        "outputId": "8a8de37a-66c9-4548-df73-f6e959475c24"
      },
      "execution_count": 7,
      "outputs": [
        {
          "output_type": "execute_result",
          "data": {
            "text/plain": [
              "66"
            ]
          },
          "metadata": {},
          "execution_count": 7
        }
      ]
    },
    {
      "cell_type": "code",
      "source": [
        "a.shape"
      ],
      "metadata": {
        "colab": {
          "base_uri": "https://localhost:8080/"
        },
        "id": "oQlLlwW6IPNs",
        "outputId": "4e040c03-ca7f-4978-969b-0e50228820e5"
      },
      "execution_count": 8,
      "outputs": [
        {
          "output_type": "execute_result",
          "data": {
            "text/plain": [
              "(3, 4)"
            ]
          },
          "metadata": {},
          "execution_count": 8
        }
      ]
    },
    {
      "cell_type": "code",
      "source": [
        "c = np.sum(a,axis = 0)\n",
        "c"
      ],
      "metadata": {
        "colab": {
          "base_uri": "https://localhost:8080/"
        },
        "id": "w0OD_w2GIctn",
        "outputId": "5b36ab4e-d08f-4fe2-9998-3030687e1e32"
      },
      "execution_count": 10,
      "outputs": [
        {
          "output_type": "execute_result",
          "data": {
            "text/plain": [
              "array([12, 15, 18, 21])"
            ]
          },
          "metadata": {},
          "execution_count": 10
        }
      ]
    },
    {
      "cell_type": "code",
      "source": [
        "d = np.sum(a,axis=1)\n",
        "d"
      ],
      "metadata": {
        "colab": {
          "base_uri": "https://localhost:8080/"
        },
        "id": "LtxssHJ2JPcb",
        "outputId": "9820a95a-1504-4eb9-cdf2-97ba1cf22f66"
      },
      "execution_count": 11,
      "outputs": [
        {
          "output_type": "execute_result",
          "data": {
            "text/plain": [
              "array([ 6, 22, 38])"
            ]
          },
          "metadata": {},
          "execution_count": 11
        }
      ]
    },
    {
      "cell_type": "code",
      "source": [
        "a"
      ],
      "metadata": {
        "colab": {
          "base_uri": "https://localhost:8080/"
        },
        "id": "OE5WKA9MK1S6",
        "outputId": "b3d43a6f-664c-45ff-cebd-ae989070db4e"
      },
      "execution_count": 12,
      "outputs": [
        {
          "output_type": "execute_result",
          "data": {
            "text/plain": [
              "array([[ 0,  1,  2,  3],\n",
              "       [ 4,  5,  6,  7],\n",
              "       [ 8,  9, 10, 11]])"
            ]
          },
          "metadata": {},
          "execution_count": 12
        }
      ]
    },
    {
      "cell_type": "code",
      "source": [
        "np.mean(a)"
      ],
      "metadata": {
        "colab": {
          "base_uri": "https://localhost:8080/"
        },
        "id": "2i1Yz1XVK4ix",
        "outputId": "74926167-0b72-41ff-f875-d23e7cbd4a93"
      },
      "execution_count": 14,
      "outputs": [
        {
          "output_type": "execute_result",
          "data": {
            "text/plain": [
              "5.5"
            ]
          },
          "metadata": {},
          "execution_count": 14
        }
      ]
    },
    {
      "cell_type": "code",
      "source": [
        "np.mean(a,axis = 1)"
      ],
      "metadata": {
        "colab": {
          "base_uri": "https://localhost:8080/"
        },
        "id": "MCj7n84tLCym",
        "outputId": "8eb3b89a-2023-4898-84a4-31e5cc130a1a"
      },
      "execution_count": 16,
      "outputs": [
        {
          "output_type": "execute_result",
          "data": {
            "text/plain": [
              "array([1.5, 5.5, 9.5])"
            ]
          },
          "metadata": {},
          "execution_count": 16
        }
      ]
    },
    {
      "cell_type": "code",
      "source": [
        "#Calculate The minimum Value in every column\n",
        "\n",
        "np.min(a,axis = 0) #"
      ],
      "metadata": {
        "colab": {
          "base_uri": "https://localhost:8080/"
        },
        "id": "DaGAsRXOMVzc",
        "outputId": "70c63f69-7299-421d-cef9-4a4dc58b818d"
      },
      "execution_count": 21,
      "outputs": [
        {
          "output_type": "execute_result",
          "data": {
            "text/plain": [
              "array([0, 1, 2, 3])"
            ]
          },
          "metadata": {},
          "execution_count": 21
        }
      ]
    },
    {
      "cell_type": "code",
      "source": [
        "# logical functions\n",
        "np.array([1,2,3,4])\n",
        "\n",
        "np.any(a)"
      ],
      "metadata": {
        "colab": {
          "base_uri": "https://localhost:8080/"
        },
        "id": "zGpQ_Oi3OABx",
        "outputId": "bb38f97d-caa0-4e8a-8622-8990256722de"
      },
      "execution_count": 24,
      "outputs": [
        {
          "output_type": "execute_result",
          "data": {
            "text/plain": [
              "True"
            ]
          },
          "metadata": {},
          "execution_count": 24
        }
      ]
    },
    {
      "cell_type": "code",
      "source": [
        "a = np.array([0,1,0,0,0])   # it will return true if any element in the array is non zero\n",
        "np.any(a)"
      ],
      "metadata": {
        "colab": {
          "base_uri": "https://localhost:8080/"
        },
        "id": "Qiy-3CVwUeJG",
        "outputId": "03978232-ae17-430f-c16b-8d52887d971d"
      },
      "execution_count": 28,
      "outputs": [
        {
          "output_type": "execute_result",
          "data": {
            "text/plain": [
              "True"
            ]
          },
          "metadata": {},
          "execution_count": 28
        }
      ]
    },
    {
      "cell_type": "code",
      "source": [
        "a = np.array([0,0,0,0])    #it will return false Because every element in this array is zero\n",
        "np.any(a)"
      ],
      "metadata": {
        "colab": {
          "base_uri": "https://localhost:8080/"
        },
        "id": "A9RnT-GXWAKm",
        "outputId": "2c7f7934-bb36-46cd-b8fa-7ea4e21cd254"
      },
      "execution_count": 27,
      "outputs": [
        {
          "output_type": "execute_result",
          "data": {
            "text/plain": [
              "False"
            ]
          },
          "metadata": {},
          "execution_count": 27
        }
      ]
    },
    {
      "cell_type": "code",
      "source": [
        "# if there is any element pair where certain condition is true\n",
        "\n",
        "a =  np.array([1,2,3,4])\n",
        "b = np.array([4,3,2,1])\n",
        "print(a,b)"
      ],
      "metadata": {
        "colab": {
          "base_uri": "https://localhost:8080/"
        },
        "id": "At-2ReFAVxT2",
        "outputId": "fa55af3d-f5a0-4f46-c67d-e509af492b8f"
      },
      "execution_count": 30,
      "outputs": [
        {
          "output_type": "stream",
          "name": "stdout",
          "text": [
            "[1 2 3 4] [4 3 2 1]\n"
          ]
        }
      ]
    },
    {
      "cell_type": "code",
      "source": [
        "a<b"
      ],
      "metadata": {
        "colab": {
          "base_uri": "https://localhost:8080/"
        },
        "id": "Oz0hsf26vcV4",
        "outputId": "74610d72-3e97-4dc0-b2ff-2af02a6f413c"
      },
      "execution_count": 31,
      "outputs": [
        {
          "output_type": "execute_result",
          "data": {
            "text/plain": [
              "array([ True,  True, False, False])"
            ]
          },
          "metadata": {},
          "execution_count": 31
        }
      ]
    },
    {
      "cell_type": "code",
      "source": [
        "np.any(a<b)"
      ],
      "metadata": {
        "colab": {
          "base_uri": "https://localhost:8080/"
        },
        "id": "f_SersN_v0Fr",
        "outputId": "fba5f129-c711-4134-e74a-e60758d7349a"
      },
      "execution_count": 32,
      "outputs": [
        {
          "output_type": "execute_result",
          "data": {
            "text/plain": [
              "True"
            ]
          },
          "metadata": {},
          "execution_count": 32
        }
      ]
    },
    {
      "cell_type": "code",
      "source": [
        "# if this condition is true for all cases"
      ],
      "metadata": {
        "id": "EffyHG_pwgen"
      },
      "execution_count": null,
      "outputs": []
    },
    {
      "cell_type": "code",
      "source": [
        "np.all(a<b)"
      ],
      "metadata": {
        "colab": {
          "base_uri": "https://localhost:8080/"
        },
        "id": "R_acXsdnwgnH",
        "outputId": "4c177e4f-a1fa-481c-dcb2-ea79254644b5"
      },
      "execution_count": 33,
      "outputs": [
        {
          "output_type": "execute_result",
          "data": {
            "text/plain": [
              "False"
            ]
          },
          "metadata": {},
          "execution_count": 33
        }
      ]
    },
    {
      "cell_type": "code",
      "source": [
        "a = np.array([1,2,3,2])\n",
        "b = np.array([2,2,3,2])\n",
        "c = np.array([6,4,4,5])\n",
        "np.all(a<=b) and np.all(b<=c)"
      ],
      "metadata": {
        "colab": {
          "base_uri": "https://localhost:8080/"
        },
        "id": "XS9Yg7G4wgwj",
        "outputId": "d786ce90-527b-4e82-f0ab-936231957ea6"
      },
      "execution_count": 34,
      "outputs": [
        {
          "output_type": "execute_result",
          "data": {
            "text/plain": [
              "True"
            ]
          },
          "metadata": {},
          "execution_count": 34
        }
      ]
    },
    {
      "cell_type": "code",
      "source": [
        "#Sorting\n"
      ],
      "metadata": {
        "id": "yLCM9Kiywg5O"
      },
      "execution_count": null,
      "outputs": []
    },
    {
      "cell_type": "code",
      "source": [
        "a = np.array([2,7,3,6,9])\n",
        "a"
      ],
      "metadata": {
        "colab": {
          "base_uri": "https://localhost:8080/"
        },
        "id": "tdzGtS1Xz8xg",
        "outputId": "399f58af-fff1-44a0-d2bc-a17e55058fac"
      },
      "execution_count": 35,
      "outputs": [
        {
          "output_type": "execute_result",
          "data": {
            "text/plain": [
              "array([2, 7, 3, 6, 9])"
            ]
          },
          "metadata": {},
          "execution_count": 35
        }
      ]
    },
    {
      "cell_type": "code",
      "source": [
        "np.sort(a)"
      ],
      "metadata": {
        "colab": {
          "base_uri": "https://localhost:8080/"
        },
        "id": "ClVfkYdgz88J",
        "outputId": "59250629-5f48-4f00-bd70-907414ad6b1f"
      },
      "execution_count": 36,
      "outputs": [
        {
          "output_type": "execute_result",
          "data": {
            "text/plain": [
              "array([2, 3, 6, 7, 9])"
            ]
          },
          "metadata": {},
          "execution_count": 36
        }
      ]
    },
    {
      "cell_type": "code",
      "source": [
        "#sorting ? if axis is not provided by default"
      ],
      "metadata": {
        "id": "6yTA2lJ7z9E0"
      },
      "execution_count": null,
      "outputs": []
    },
    {
      "cell_type": "code",
      "source": [
        "a = np.array([[23,34,2],\n",
        " [65,12,1],\n",
        "  [32,76,21]])\n",
        "b = np.sort(a)\n",
        "b"
      ],
      "metadata": {
        "colab": {
          "base_uri": "https://localhost:8080/"
        },
        "id": "r81lReGVz9O-",
        "outputId": "89e6a1f9-519f-4721-fc06-2defdf668693"
      },
      "execution_count": 40,
      "outputs": [
        {
          "output_type": "execute_result",
          "data": {
            "text/plain": [
              "array([[ 2, 23, 34],\n",
              "       [ 1, 12, 65],\n",
              "       [21, 32, 76]])"
            ]
          },
          "metadata": {},
          "execution_count": 40
        }
      ]
    },
    {
      "cell_type": "code",
      "source": [
        "# Operation on arrays in numpy\n",
        "\n",
        "a = np.arange(1,13).reshape(3,4)\n",
        "a+2"
      ],
      "metadata": {
        "colab": {
          "base_uri": "https://localhost:8080/"
        },
        "id": "hlLzmFa746yM",
        "outputId": "99f1fc48-d30b-4075-ae22-0e992f94d63e"
      },
      "execution_count": 6,
      "outputs": [
        {
          "output_type": "execute_result",
          "data": {
            "text/plain": [
              "array([[ 3,  4,  5,  6],\n",
              "       [ 7,  8,  9, 10],\n",
              "       [11, 12, 13, 14]])"
            ]
          },
          "metadata": {},
          "execution_count": 6
        }
      ]
    },
    {
      "cell_type": "code",
      "source": [
        "a = np.array([1,2,3])\n",
        "b = np.array([2,3,4])\n",
        "a+b"
      ],
      "metadata": {
        "colab": {
          "base_uri": "https://localhost:8080/"
        },
        "id": "onieF3cxpRfZ",
        "outputId": "81797d6e-660c-4c75-ff4f-5782589580ab"
      },
      "execution_count": 7,
      "outputs": [
        {
          "output_type": "execute_result",
          "data": {
            "text/plain": [
              "array([3, 5, 7])"
            ]
          },
          "metadata": {},
          "execution_count": 7
        }
      ]
    },
    {
      "cell_type": "code",
      "source": [
        "a*b"
      ],
      "metadata": {
        "colab": {
          "base_uri": "https://localhost:8080/"
        },
        "id": "86Yjh29Kpczt",
        "outputId": "bad01f05-29a4-47ab-eac0-b4b1783f53a9"
      },
      "execution_count": 8,
      "outputs": [
        {
          "output_type": "execute_result",
          "data": {
            "text/plain": [
              "array([ 2,  6, 12])"
            ]
          },
          "metadata": {},
          "execution_count": 8
        }
      ]
    },
    {
      "cell_type": "code",
      "source": [
        "A = np.arange(12).reshape(3,4)\n",
        "B = np.arange(12).reshape(3,4)\n",
        "A*B"
      ],
      "metadata": {
        "colab": {
          "base_uri": "https://localhost:8080/"
        },
        "id": "SHmH59Mep0RW",
        "outputId": "3e746643-b061-4022-a7dc-f7090571c8c6"
      },
      "execution_count": 11,
      "outputs": [
        {
          "output_type": "execute_result",
          "data": {
            "text/plain": [
              "array([[  0,   1,   4,   9],\n",
              "       [ 16,  25,  36,  49],\n",
              "       [ 64,  81, 100, 121]])"
            ]
          },
          "metadata": {},
          "execution_count": 11
        }
      ]
    },
    {
      "cell_type": "code",
      "source": [
        "B = B.reshape(4,3)\n",
        "B"
      ],
      "metadata": {
        "colab": {
          "base_uri": "https://localhost:8080/"
        },
        "id": "6pfsMGaarcVy",
        "outputId": "012f8ffb-0101-41b6-c6a6-288a81c7302c"
      },
      "execution_count": 15,
      "outputs": [
        {
          "output_type": "execute_result",
          "data": {
            "text/plain": [
              "array([[ 0,  1,  2],\n",
              "       [ 3,  4,  5],\n",
              "       [ 6,  7,  8],\n",
              "       [ 9, 10, 11]])"
            ]
          },
          "metadata": {},
          "execution_count": 15
        }
      ]
    },
    {
      "cell_type": "code",
      "source": [
        "A"
      ],
      "metadata": {
        "colab": {
          "base_uri": "https://localhost:8080/"
        },
        "id": "SeC9Pl8Isfe8",
        "outputId": "49d171d6-ad6b-4234-aadb-14c0d7c5f18d"
      },
      "execution_count": 16,
      "outputs": [
        {
          "output_type": "execute_result",
          "data": {
            "text/plain": [
              "array([[ 0,  1,  2,  3],\n",
              "       [ 4,  5,  6,  7],\n",
              "       [ 8,  9, 10, 11]])"
            ]
          },
          "metadata": {},
          "execution_count": 16
        }
      ]
    },
    {
      "cell_type": "code",
      "source": [
        "np.matmul(A,B)"
      ],
      "metadata": {
        "colab": {
          "base_uri": "https://localhost:8080/"
        },
        "id": "hQ8NqsHYs0Wj",
        "outputId": "673c10d7-05ad-4bfe-fe9b-3b68ef08e1aa"
      },
      "execution_count": 17,
      "outputs": [
        {
          "output_type": "execute_result",
          "data": {
            "text/plain": [
              "array([[ 42,  48,  54],\n",
              "       [114, 136, 158],\n",
              "       [186, 224, 262]])"
            ]
          },
          "metadata": {},
          "execution_count": 17
        }
      ]
    },
    {
      "cell_type": "code",
      "source": [
        "A@B"
      ],
      "metadata": {
        "colab": {
          "base_uri": "https://localhost:8080/"
        },
        "id": "VZfbtZaNs-ur",
        "outputId": "6bc6a9a7-a352-426d-97d3-c72fdb166911"
      },
      "execution_count": 18,
      "outputs": [
        {
          "output_type": "execute_result",
          "data": {
            "text/plain": [
              "array([[ 42,  48,  54],\n",
              "       [114, 136, 158],\n",
              "       [186, 224, 262]])"
            ]
          },
          "metadata": {},
          "execution_count": 18
        }
      ]
    },
    {
      "cell_type": "code",
      "source": [
        "B@A"
      ],
      "metadata": {
        "colab": {
          "base_uri": "https://localhost:8080/"
        },
        "id": "-0LHYq6vtGop",
        "outputId": "0c752767-d37e-4827-89e0-811ff64b81df"
      },
      "execution_count": 19,
      "outputs": [
        {
          "output_type": "execute_result",
          "data": {
            "text/plain": [
              "array([[ 20,  23,  26,  29],\n",
              "       [ 56,  68,  80,  92],\n",
              "       [ 92, 113, 134, 155],\n",
              "       [128, 158, 188, 218]])"
            ]
          },
          "metadata": {},
          "execution_count": 19
        }
      ]
    },
    {
      "cell_type": "code",
      "source": [
        "a = np.array([1,2,3])\n",
        "b = np.array([1,1,1])\n",
        "np.dot(a,b)"
      ],
      "metadata": {
        "colab": {
          "base_uri": "https://localhost:8080/"
        },
        "id": "ZKkS7AW1tlB2",
        "outputId": "9340f462-79ec-4d7c-edd2-fc9aa90edbe1"
      },
      "execution_count": 20,
      "outputs": [
        {
          "output_type": "execute_result",
          "data": {
            "text/plain": [
              "6"
            ]
          },
          "metadata": {},
          "execution_count": 20
        }
      ]
    },
    {
      "cell_type": "code",
      "source": [
        "# Vectorization\n",
        "\n",
        "np.log(np.arange(1,100))"
      ],
      "metadata": {
        "colab": {
          "base_uri": "https://localhost:8080/"
        },
        "id": "P8VTV8fq0qK6",
        "outputId": "b842035a-b5e5-41e0-e310-667dc93aa3c7"
      },
      "execution_count": 21,
      "outputs": [
        {
          "output_type": "execute_result",
          "data": {
            "text/plain": [
              "array([0.        , 0.69314718, 1.09861229, 1.38629436, 1.60943791,\n",
              "       1.79175947, 1.94591015, 2.07944154, 2.19722458, 2.30258509,\n",
              "       2.39789527, 2.48490665, 2.56494936, 2.63905733, 2.7080502 ,\n",
              "       2.77258872, 2.83321334, 2.89037176, 2.94443898, 2.99573227,\n",
              "       3.04452244, 3.09104245, 3.13549422, 3.17805383, 3.21887582,\n",
              "       3.25809654, 3.29583687, 3.33220451, 3.36729583, 3.40119738,\n",
              "       3.4339872 , 3.4657359 , 3.49650756, 3.52636052, 3.55534806,\n",
              "       3.58351894, 3.61091791, 3.63758616, 3.66356165, 3.68887945,\n",
              "       3.71357207, 3.73766962, 3.76120012, 3.78418963, 3.80666249,\n",
              "       3.8286414 , 3.8501476 , 3.87120101, 3.8918203 , 3.91202301,\n",
              "       3.93182563, 3.95124372, 3.97029191, 3.98898405, 4.00733319,\n",
              "       4.02535169, 4.04305127, 4.06044301, 4.07753744, 4.09434456,\n",
              "       4.11087386, 4.12713439, 4.14313473, 4.15888308, 4.17438727,\n",
              "       4.18965474, 4.20469262, 4.21950771, 4.2341065 , 4.24849524,\n",
              "       4.26267988, 4.27666612, 4.29045944, 4.30406509, 4.31748811,\n",
              "       4.33073334, 4.34380542, 4.35670883, 4.36944785, 4.38202663,\n",
              "       4.39444915, 4.40671925, 4.41884061, 4.4308168 , 4.44265126,\n",
              "       4.4543473 , 4.46590812, 4.47733681, 4.48863637, 4.49980967,\n",
              "       4.51085951, 4.52178858, 4.53259949, 4.54329478, 4.55387689,\n",
              "       4.56434819, 4.57471098, 4.58496748, 4.59511985])"
            ]
          },
          "metadata": {},
          "execution_count": 21
        }
      ]
    },
    {
      "cell_type": "code",
      "source": [
        "import math\n"
      ],
      "metadata": {
        "id": "f7n0mWEO6N4c"
      },
      "execution_count": 22,
      "outputs": []
    },
    {
      "cell_type": "code",
      "source": [
        "math.log(10)"
      ],
      "metadata": {
        "colab": {
          "base_uri": "https://localhost:8080/"
        },
        "id": "oepJa-9T6Xqr",
        "outputId": "9dbb7a8d-e319-4a80-9389-c3ba4ae2316d"
      },
      "execution_count": 23,
      "outputs": [
        {
          "output_type": "execute_result",
          "data": {
            "text/plain": [
              "2.302585092994046"
            ]
          },
          "metadata": {},
          "execution_count": 23
        }
      ]
    },
    {
      "cell_type": "code",
      "source": [
        "math.log(10,100,1000)"
      ],
      "metadata": {
        "colab": {
          "base_uri": "https://localhost:8080/",
          "height": 141
        },
        "id": "lTGld6pZ6hmH",
        "outputId": "b70bec16-1bc3-4fcb-dc2b-4cb9dee9f168"
      },
      "execution_count": 24,
      "outputs": [
        {
          "output_type": "error",
          "ename": "TypeError",
          "evalue": "math.log requires 1 to 2 arguments",
          "traceback": [
            "\u001b[0;31m---------------------------------------------------------------------------\u001b[0m",
            "\u001b[0;31mTypeError\u001b[0m                                 Traceback (most recent call last)",
            "\u001b[0;32m<ipython-input-24-0f207d91c641>\u001b[0m in \u001b[0;36m<cell line: 1>\u001b[0;34m()\u001b[0m\n\u001b[0;32m----> 1\u001b[0;31m \u001b[0mmath\u001b[0m\u001b[0;34m.\u001b[0m\u001b[0mlog\u001b[0m\u001b[0;34m(\u001b[0m\u001b[0;36m10\u001b[0m\u001b[0;34m,\u001b[0m\u001b[0;36m100\u001b[0m\u001b[0;34m,\u001b[0m\u001b[0;36m1000\u001b[0m\u001b[0;34m)\u001b[0m\u001b[0;34m\u001b[0m\u001b[0;34m\u001b[0m\u001b[0m\n\u001b[0m",
            "\u001b[0;31mTypeError\u001b[0m: math.log requires 1 to 2 arguments"
          ]
        }
      ]
    },
    {
      "cell_type": "code",
      "source": [
        "np_log = np.vectorize(math.log)\n",
        "np_log([10,100,1000])\n",
        "\n"
      ],
      "metadata": {
        "colab": {
          "base_uri": "https://localhost:8080/"
        },
        "id": "aoJqFchj6wCT",
        "outputId": "98b7a65a-83e7-4808-ea01-ad3bee3bd6c2"
      },
      "execution_count": 31,
      "outputs": [
        {
          "output_type": "execute_result",
          "data": {
            "text/plain": [
              "array([2.30258509, 4.60517019, 6.90775528])"
            ]
          },
          "metadata": {},
          "execution_count": 31
        }
      ]
    },
    {
      "cell_type": "code",
      "source": [
        "import math\n",
        "import matplotlib.pyplot as plt\n",
        "\n",
        "\n",
        "x = np.arange(1,101)\n",
        "y = np.vectorize(math.log)(x)\n",
        "y\n",
        "plt.plot(x,y)\n",
        "plt.show()"
      ],
      "metadata": {
        "colab": {
          "base_uri": "https://localhost:8080/",
          "height": 430
        },
        "id": "mU_mOdzG8IRz",
        "outputId": "0cde037c-93bc-4b2f-9f3a-abec588aca3e"
      },
      "execution_count": 34,
      "outputs": [
        {
          "output_type": "display_data",
          "data": {
            "text/plain": [
              "<Figure size 640x480 with 1 Axes>"
            ],
            "image/png": "[encoded data removed]"
          },
          "metadata": {}
        }
      ]
    },
    {
      "cell_type": "code",
      "source": [],
      "metadata": {
        "id": "26GUfmL5jqYG"
      },
      "execution_count": null,
      "outputs": []
    }
  ]
}